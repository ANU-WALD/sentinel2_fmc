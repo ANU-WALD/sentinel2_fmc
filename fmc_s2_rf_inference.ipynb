{
 "cells": [
  {
   "cell_type": "markdown",
   "metadata": {},
   "source": [
    "## Load Packages "
   ]
  },
  {
   "cell_type": "code",
   "execution_count": null,
   "metadata": {
    "tags": []
   },
   "outputs": [],
   "source": [
    "%matplotlib inline\n",
    "\n",
    "import datacube\n",
    "import numpy as np\n",
    "import xarray as xr\n",
    "from joblib import load\n",
    "import matplotlib.pyplot as plt\n",
    "from matplotlib.colors import LinearSegmentedColormap\n",
    "\n",
    "import sys\n",
    "sys.path.insert(1, '../../Tools/')\n",
    "from dea_tools.datahandling import load_ard\n",
    "from dea_tools.plotting import rgb, display_map\n",
    "from dea_tools.bandindices import calculate_indices\n",
    "from dea_tools.classification import predict_xr\n",
    "from dea_tools.dask import create_local_dask_cluster\n",
    "\n",
    "import warnings\n",
    "warnings.filterwarnings(\"ignore\")\n"
   ]
  },
  {
   "cell_type": "markdown",
   "metadata": {},
   "source": [
    "## Set up a dask cluster"
   ]
  },
  {
   "cell_type": "code",
   "execution_count": null,
   "metadata": {
    "tags": []
   },
   "outputs": [],
   "source": [
    "create_local_dask_cluster(spare_mem='2Gb')"
   ]
  },
  {
   "cell_type": "markdown",
   "metadata": {},
   "source": [
    "## Analysis parameters"
   ]
  },
  {
   "cell_type": "code",
   "execution_count": null,
   "metadata": {
    "tags": []
   },
   "outputs": [],
   "source": [
    "model_path = 'rf_fmc.pickle'\n",
    "\n",
    "testing_locations = {\n",
    "    'Namadgi': (-35.675, 149.0540),  \n",
    "    'Mallacoota': (-37.5162, 149.6735),\n",
    "    # 'Geraldton': (-28.850, 114.746),\n",
    "    # 'Ravensthorpe': (-33.5048, 119.839),\n",
    "}\n",
    "\n",
    "buffer = 0.125\n",
    "\n",
    "output_crs='EPSG:3577'\n",
    "\n",
    "dask_chunks = {'x': 1000, 'y': 1000}\n",
    "\n",
    "time= ('2019-11-20', '2019-11-22')\n",
    "\n",
    "resolution = (-20, 20)\n",
    "\n",
    "measurements =  [\"nbart_blue\",\"nbart_green\",\"nbart_red\", \n",
    "                 \"nbart_red_edge_1\",\"nbart_red_edge_2\",\"nbart_red_edge_3\",\n",
    "                 \"nbart_nir_1\",\"nbart_nir_2\",\n",
    "                \"nbart_swir_2\",\"nbart_swir_3\"\n",
    "                ]"
   ]
  },
  {
   "cell_type": "markdown",
   "metadata": {},
   "source": [
    "## Connect to the datacube"
   ]
  },
  {
   "cell_type": "code",
   "execution_count": null,
   "metadata": {
    "tags": []
   },
   "outputs": [],
   "source": [
    "dc = datacube.Datacube(app='fmc')"
   ]
  },
  {
   "cell_type": "markdown",
   "metadata": {},
   "source": [
    "## Import the model"
   ]
  },
  {
   "cell_type": "code",
   "execution_count": null,
   "metadata": {
    "tags": []
   },
   "outputs": [],
   "source": [
    "model = load(model_path).set_params(n_jobs=1)"
   ]
  },
  {
   "cell_type": "markdown",
   "metadata": {},
   "source": [
    "## Set up datacube query\n"
   ]
  },
  {
   "cell_type": "code",
   "execution_count": null,
   "metadata": {
    "tags": []
   },
   "outputs": [],
   "source": [
    "# Generate a new datacube query object\n",
    "query = {\n",
    "    'time': time,\n",
    "    'resolution': resolution,\n",
    "    'output_crs': output_crs,\n",
    "    'dask_chunks': dask_chunks,\n",
    "    'measurements': measurements\n",
    "}"
   ]
  },
  {
   "cell_type": "markdown",
   "metadata": {},
   "source": [
    "## Loop through test locations and predict"
   ]
  },
  {
   "cell_type": "code",
   "execution_count": null,
   "metadata": {
    "tags": []
   },
   "outputs": [],
   "source": [
    "predictions = []\n",
    "\n",
    "for key, value in testing_locations.items():\n",
    "\n",
    "    print('Working on: ' + key)\n",
    "    \n",
    "    bounds = {'x': (value[1] - buffer, value[1] + buffer),\n",
    "              'y': (value[0] + buffer, value[0] - buffer)}\n",
    "    \n",
    "    # Update datacube query\n",
    "\n",
    "    query.update(bounds)\n",
    "\n",
    "    # Load data and calculate features\n",
    "    ds = load_ard(dc=dc,\n",
    "              products=[\"ga_s2am_ard_3\", \"ga_s2bm_ard_3\"],\n",
    "              cloud_mask=\"s2cloudless\",\n",
    "              mask_pixel_quality=True,\n",
    "              **query)\n",
    "    \n",
    "    ds['ndvi']=((ds.nbart_nir_1-ds.nbart_red)/(ds.nbart_nir_1+ds.nbart_red))\n",
    "    ds['ndii']=((ds.nbart_nir_1-ds.nbart_swir_2)/(ds.nbart_nir_1+ds.nbart_swir_2))\n",
    "    \n",
    "    ds = ds[['ndvi','ndii','nbart_red','nbart_green','nbart_blue',\n",
    "             'nbart_nir_1','nbart_nir_2','nbart_swir_2','nbart_swir_3']]\n",
    "    \n",
    "    # Predict using the imported model\n",
    "    predicted = predict_xr(model,\n",
    "                           ds,\n",
    "                           proba=False,\n",
    "                           persist=False,\n",
    "                           clean=True,\n",
    "                           return_input=True).compute()\n",
    "\n",
    "    predictions.append(predicted)\n",
    "    break"
   ]
  },
  {
   "cell_type": "markdown",
   "metadata": {},
   "source": [
    "### 6.- Create colormap consistent with the current Australian Fuel Monitoring System"
   ]
  },
  {
   "cell_type": "code",
   "execution_count": null,
   "metadata": {
    "tags": []
   },
   "outputs": [],
   "source": [
    "colors = [(0.87, 0, 0), (1, 1, 0.73), (0.165, 0.615, 0.957)]  # R -> G -> B\n",
    "cmap = LinearSegmentedColormap.from_list('fmc', colors, N=256)\n",
    "predicted.Predictions.plot.imshow(figsize=(10,10), cmap=cmap, vmin=0, vmax=136)"
   ]
  },
  {
   "cell_type": "code",
   "execution_count": null,
   "metadata": {},
   "outputs": [],
   "source": []
  }
 ],
 "metadata": {
  "kernelspec": {
   "display_name": "Python 3 (ipykernel)",
   "language": "python",
   "name": "python3"
  },
  "language_info": {
   "codemirror_mode": {
    "name": "ipython",
    "version": 3
   },
   "file_extension": ".py",
   "mimetype": "text/x-python",
   "name": "python",
   "nbconvert_exporter": "python",
   "pygments_lexer": "ipython3",
   "version": "3.8.10"
  }
 },
 "nbformat": 4,
 "nbformat_minor": 4
}
